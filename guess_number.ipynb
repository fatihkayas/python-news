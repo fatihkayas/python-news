{
 "cells": [
  {
   "cell_type": "code",
   "execution_count": 1,
   "metadata": {},
   "outputs": [
    {
     "name": "stdout",
     "output_type": "stream",
     "text": [
      "Sorry , guess again .Too high\n",
      "Sorry , guess again .Too high\n",
      "Sorry , guess again. Too low \n",
      "Sorry , guess again. Too low \n",
      " Perfect, congrats . you have done. 4, correctly  \n"
     ]
    }
   ],
   "source": [
    "import random\n",
    "\n",
    "def guess(x):\n",
    "\n",
    "    random_number = random.randint(1, x)\n",
    "    guess = 0\n",
    "\n",
    "\n",
    " \n",
    "    while guess != random_number:\n",
    "        guess = int(input(f'Guess a numer between 1 and {x}:'))\n",
    "        if guess < random_number :\n",
    "            print(\"Sorry , guess again. Too low \")\n",
    "        elif guess > random_number :\n",
    "            print(\"Sorry , guess again .Too high\") \n",
    "    print(f\" Perfect, congrats . you have done. {random_number}, correctly  \")                 \n",
    "\n",
    "guess(5)          \n"
   ]
  }
 ],
 "metadata": {
  "interpreter": {
   "hash": "aee8b7b246df8f9039afb4144a1f6fd8d2ca17a180786b69acc140d282b71a49"
  },
  "kernelspec": {
   "display_name": "Python 3.10.4 64-bit",
   "language": "python",
   "name": "python3"
  },
  "language_info": {
   "codemirror_mode": {
    "name": "ipython",
    "version": 3
   },
   "file_extension": ".py",
   "mimetype": "text/x-python",
   "name": "python",
   "nbconvert_exporter": "python",
   "pygments_lexer": "ipython3",
   "version": "3.10.4"
  },
  "orig_nbformat": 4
 },
 "nbformat": 4,
 "nbformat_minor": 2
}
