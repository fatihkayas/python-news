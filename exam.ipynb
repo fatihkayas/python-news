{
 "cells": [
  {
   "cell_type": "code",
   "execution_count": 2,
   "metadata": {},
   "outputs": [
    {
     "data": {
      "text/plain": [
       "6"
      ]
     },
     "execution_count": 2,
     "metadata": {},
     "output_type": "execute_result"
    }
   ],
   "source": [
    " a=(3,1,2,5,4,6)\n",
    " len(a)"
   ]
  },
  {
   "cell_type": "code",
   "execution_count": 11,
   "metadata": {},
   "outputs": [
    {
     "name": "stdout",
     "output_type": "stream",
     "text": [
      "['lion', 'tiger', 'elephant']\n"
     ]
    }
   ],
   "source": [
    "x = [\"lion\", \"tiger\"]\n",
    "x.append(\"elephant\")  \n",
    "print(x)"
   ]
  },
  {
   "cell_type": "code",
   "execution_count": 21,
   "metadata": {},
   "outputs": [
    {
     "name": "stdout",
     "output_type": "stream",
     "text": [
      "['leopard', 'tige', 'elephant']\n"
     ]
    }
   ],
   "source": [
    "x = ['leopard', 'tige', 'elephant', 'cat']\n",
    "x.remove('cat')\n",
    "print(x)"
   ]
  },
  {
   "cell_type": "code",
   "execution_count": 22,
   "metadata": {},
   "outputs": [
    {
     "name": "stdout",
     "output_type": "stream",
     "text": [
      "Updated animals list:  ['cat', 'dog', 'rabbit', 'guinea pig']\n"
     ]
    }
   ],
   "source": [
    "# animals list\n",
    "animals = ['cat', 'dog', 'rabbit']\n",
    "\n",
    "# Add 'guinea pig' to the list\n",
    "animals.append('guinea pig')\n",
    "\n",
    "print('Updated animals list: ', animals)"
   ]
  },
  {
   "cell_type": "code",
   "execution_count": 23,
   "metadata": {},
   "outputs": [
    {
     "data": {
      "text/plain": [
       "['h', 'a', 'p', 'p', 'y']"
      ]
     },
     "execution_count": 23,
     "metadata": {},
     "output_type": "execute_result"
    }
   ],
   "source": [
    "word = \"happy\"\n",
    "list(word)"
   ]
  },
  {
   "cell_type": "code",
   "execution_count": 34,
   "metadata": {},
   "outputs": [
    {
     "name": "stdout",
     "output_type": "stream",
     "text": [
      "[1, 5, 6]\n"
     ]
    }
   ],
   "source": [
    "slm = [1, 3, 5, 6]\n",
    "slm.remove(3)\n",
    "slm.sort()\n",
    "print(slm)\n"
   ]
  },
  {
   "cell_type": "code",
   "execution_count": 35,
   "metadata": {},
   "outputs": [
    {
     "name": "stdout",
     "output_type": "stream",
     "text": [
      "('Earth', 'mount', 'Neptün')\n",
      "<class 'tuple'>\n"
     ]
    }
   ],
   "source": [
    "solar = \"Earth\" ,\"mount\", \"Neptün\"\n",
    "print(solar, type(solar), sep='\\n')"
   ]
  },
  {
   "cell_type": "code",
   "execution_count": 38,
   "metadata": {},
   "outputs": [
    {
     "data": {
      "text/plain": [
       "'even'"
      ]
     },
     "execution_count": 38,
     "metadata": {},
     "output_type": "execute_result"
    }
   ],
   "source": [
    "(lambda  x :  \"odd\" if x % 2 != 0 else \"even\")(2)"
   ]
  },
  {
   "cell_type": "code",
   "execution_count": 39,
   "metadata": {},
   "outputs": [
    {
     "data": {
      "text/plain": [
       "4.5"
      ]
     },
     "execution_count": 39,
     "metadata": {},
     "output_type": "execute_result"
    }
   ],
   "source": [
    "(lambda a, b : (a + b)/2)(4, 5)"
   ]
  },
  {
   "cell_type": "code",
   "execution_count": 42,
   "metadata": {},
   "outputs": [
    {
     "name": "stdout",
     "output_type": "stream",
     "text": [
      "1 : odd\n",
      "3 : odd\n",
      "4 : even\n",
      "32 : even\n",
      "5 : odd\n",
      "67 : odd\n",
      "8 : even\n",
      "9 : odd\n"
     ]
    }
   ],
   "source": [
    "sayilar = [1, 3, 4, 32, 5, 67, 8, 9]\n",
    "for a in sayilar :\n",
    "        print(a, \":\", (lambda x : \"odd\" if x % 2 != 0 else \"even\")(a))"
   ]
  },
  {
   "cell_type": "code",
   "execution_count": 46,
   "metadata": {},
   "outputs": [
    {
     "name": "stdout",
     "output_type": "stream",
     "text": [
      "1 9 25\n"
     ]
    }
   ],
   "source": [
    "function =  lambda x : x ** 2\n",
    "terable = [1, 3, 5]\n",
    "\n",
    "result = map(function, terable)\n",
    "print(*result)"
   ]
  },
  {
   "cell_type": "code",
   "execution_count": 50,
   "metadata": {},
   "outputs": [
    {
     "name": "stdout",
     "output_type": "stream",
     "text": [
      "Even numbers are : [4, 6, 56, 22, 54, 90]\n"
     ]
    }
   ],
   "source": [
    "list1 = [1, 3, 4, 6, 7, 56, 43, 22, 54, 7, 90, ]\n",
    "\n",
    "even = filter(lambda x : x % 2 == 0 , list1)\n",
    "\n",
    "print(\"Even numbers are :\", list(even))"
   ]
  },
  {
   "cell_type": "code",
   "execution_count": 52,
   "metadata": {},
   "outputs": [
    {
     "name": "stdout",
     "output_type": "stream",
     "text": [
      "weird\n",
      "not weird\n"
     ]
    }
   ],
   "source": [
    "n = int(input(\"Give a number :\"))\n",
    "\n",
    "if n % 2 == 0 :\n",
    "    print(\"weird\")\n",
    "if n % 2 == 0 and 5 >= n >= 2 :\n",
    "    print(\"not weird\")         "
   ]
  }
 ],
 "metadata": {
  "interpreter": {
   "hash": "aee8b7b246df8f9039afb4144a1f6fd8d2ca17a180786b69acc140d282b71a49"
  },
  "kernelspec": {
   "display_name": "Python 3.10.4 64-bit",
   "language": "python",
   "name": "python3"
  },
  "language_info": {
   "codemirror_mode": {
    "name": "ipython",
    "version": 3
   },
   "file_extension": ".py",
   "mimetype": "text/x-python",
   "name": "python",
   "nbconvert_exporter": "python",
   "pygments_lexer": "ipython3",
   "version": "3.10.4"
  },
  "orig_nbformat": 4
 },
 "nbformat": 4,
 "nbformat_minor": 2
}
