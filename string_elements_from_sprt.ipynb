{
 "cells": [
  {
   "cell_type": "code",
   "execution_count": 10,
   "metadata": {},
   "outputs": [
    {
     "name": "stdout",
     "output_type": "stream",
     "text": [
      "fatih is happy\n",
      "fatih is sad\n",
      "fatih is thinkfull\n",
      "ayse is happy\n",
      "ayse is sad\n",
      "ayse is thinkfull\n",
      "selim, is happy\n",
      "selim, is sad\n",
      "selim, is thinkfull\n"
     ]
    }
   ],
   "source": [
    "names = [\"fatih\", \"ayse\", \"selim,\"]\n",
    "moods = [\"happy\", \"sad\", \"thinkfull\"]\n",
    "\n",
    "for i in names:\n",
    "    for r in moods :\n",
    "        print(i + \" is \" + r)\n",
    "       "
   ]
  }
 ],
 "metadata": {
  "interpreter": {
   "hash": "aee8b7b246df8f9039afb4144a1f6fd8d2ca17a180786b69acc140d282b71a49"
  },
  "kernelspec": {
   "display_name": "Python 3.10.4 64-bit",
   "language": "python",
   "name": "python3"
  },
  "language_info": {
   "codemirror_mode": {
    "name": "ipython",
    "version": 3
   },
   "file_extension": ".py",
   "mimetype": "text/x-python",
   "name": "python",
   "nbconvert_exporter": "python",
   "pygments_lexer": "ipython3",
   "version": "3.10.4"
  },
  "orig_nbformat": 4
 },
 "nbformat": 4,
 "nbformat_minor": 2
}
