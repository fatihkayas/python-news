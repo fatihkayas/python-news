{
 "cells": [
  {
   "cell_type": "code",
   "execution_count": 1,
   "metadata": {},
   "outputs": [
    {
     "name": "stdout",
     "output_type": "stream",
     "text": [
      "False\n"
     ]
    }
   ],
   "source": [
    "   \n",
    "# Task : Estimating the risk of death from coronavirus.\n",
    "\n",
    "# Consider the following questions in terms of True/False regarding anyone else.\n",
    "# Are you a cigarette addict older than 75 years old? Variable → age\n",
    "# Do you have a severe chronic disease? Variable → chronic\n",
    "# Is your immune system too weak? Variable → immune\n",
    "# Set a logical algorithm using boolean logic operators (and/or) and the given variables in order to give us True  # (there is a risk of death) or False (there is not a risk of death) as a result.\n",
    "\n",
    "age = input(\"Are you a cigarette addict older than 75 years old?(Please answer as Yes or No): \")\n",
    "chronic = input(\"Do you have a severe chronic disease?(Please answer as Yes or No): \")\n",
    "immune = input(\"Is your immune system too weak?(Please answer as Yes or No): \")\n",
    "if age == \"Yes\" or chronic == \"Yes\" or immune == \"Yes\":\n",
    "  print(bool(\"There is a risk of death\"))\n",
    "else:\n",
    "  print(bool())\n"
   ]
  }
 ],
 "metadata": {
  "interpreter": {
   "hash": "aee8b7b246df8f9039afb4144a1f6fd8d2ca17a180786b69acc140d282b71a49"
  },
  "kernelspec": {
   "display_name": "Python 3.10.4 64-bit",
   "language": "python",
   "name": "python3"
  },
  "language_info": {
   "codemirror_mode": {
    "name": "ipython",
    "version": 3
   },
   "file_extension": ".py",
   "mimetype": "text/x-python",
   "name": "python",
   "nbconvert_exporter": "python",
   "pygments_lexer": "ipython3",
   "version": "3.10.4"
  },
  "orig_nbformat": 4
 },
 "nbformat": 4,
 "nbformat_minor": 2
}
